{
 "cells": [
  {
   "cell_type": "markdown",
   "id": "1abafaa8",
   "metadata": {},
   "source": [
    "# NDIS Dashboard + Predictive Modeling Notebook\n",
    "\n",
    "This notebook:\n",
    "1. Reads **Parquet** data from an S3 path (`s3a://ndis-pipeline-processed-bucket/ndis/transformed_data/parquet/`).\n",
    "2. Performs a **simple regression** using Spark MLlib.\n",
    "3. Creates a **basic dashboard** with **matplotlib** (bar charts, etc.) to visualize key metrics.\n",
    "\n",
    "> **Requirements**:\n",
    "> - You must have run `spark-submit` (or be in a Spark environment) with `hadoop-aws` and `aws-java-sdk` libraries available.\n",
    "> - Your AWS credentials must be set so Spark can read from S3.\n",
    "> - You should already have valid Parquet data in your S3 bucket.\n"
   ]
  },
  {
   "cell_type": "code",
   "execution_count": 26,
   "id": "0d8128b0-f1a6-44cf-afbb-cf1aefa65dd0",
   "metadata": {},
   "outputs": [
    {
     "name": "stdout",
     "output_type": "stream",
     "text": [
      "Note: you may need to restart the kernel to use updated packages.\n"
     ]
    }
   ],
   "source": [
    "%pip install --quiet findspark"
   ]
  },
  {
   "cell_type": "code",
   "execution_count": 27,
   "id": "3ea437db",
   "metadata": {},
   "outputs": [
    {
     "name": "stdout",
     "output_type": "stream",
     "text": [
      "Reading Parquet from: s3a://ndis-pipeline-processed-bucket/ndis/transformed_data/parquet/\n",
      "Schema:\n",
      "root\n",
      " |-- rprtdt: string (nullable = true)\n",
      " |-- statecd: string (nullable = true)\n",
      " |-- srvcdstrctnm: string (nullable = true)\n",
      " |-- dsbltygrpnm: string (nullable = true)\n",
      " |-- agebnd: string (nullable = true)\n",
      " |-- suppclass: string (nullable = true)\n",
      " |-- avganlsdcmtdsuppbdgt: string (nullable = true)\n",
      " |-- actvprtcpnt: string (nullable = true)\n",
      " |-- source_dataset: string (nullable = true)\n",
      " |-- prvdrcnt: string (nullable = true)\n",
      " |-- avganlsdpymt: string (nullable = true)\n",
      "\n",
      "Total Rows = 236267\n"
     ]
    }
   ],
   "source": [
    "import os\n",
    "from pyspark.sql import SparkSession\n",
    "\n",
    "import findspark\n",
    "\n",
    "os.environ[\"PYSPARK_SUBMIT_ARGS\"] = (\n",
    "    \"--packages org.apache.hadoop:hadoop-aws:3.3.4,\"\n",
    "    \"com.amazonaws:aws-java-sdk-bundle:1.12.262 pyspark-shell\"\n",
    ")\n",
    "\n",
    "findspark.init()\n",
    "\n",
    "from pyspark.sql import SparkSession\n",
    "\n",
    "spark = (\n",
    "    SparkSession.builder\n",
    "    .appName(\"NDIS_Dashboard_and_Prediction\")\n",
    "    .getOrCreate()\n",
    ")\n",
    "\n",
    "spark.conf.set(\"fs.s3a.aws.credentials.provider\", \"com.amazonaws.auth.DefaultAWSCredentialsProviderChain\")\n",
    "\n",
    "input_parquet_path = \"s3a://ndis-pipeline-processed-bucket/ndis/transformed_data/parquet/\"\n",
    "print(f\"Reading Parquet from: {input_parquet_path}\")\n",
    "\n",
    "df = spark.read.parquet(input_parquet_path)\n",
    "\n",
    "print(\"Schema:\")\n",
    "df.printSchema()\n",
    "print(\"Total Rows =\", df.count())"
   ]
  },
  {
   "cell_type": "markdown",
   "id": "9c7eb019",
   "metadata": {},
   "source": [
    "## 2. Quick Exploratory Analysis\n",
    "We can do some SQL queries or direct DataFrame ops to see the distribution of certain columns.\n"
   ]
  },
  {
   "cell_type": "code",
   "execution_count": null,
   "id": "2a572ff1-cef7-4946-bc70-e473cce6caea",
   "metadata": {},
   "outputs": [],
   "source": [
    "# Create a temp view to run Spark SQL\n",
    "df.createOrReplaceTempView(\"ndis_data\")\n",
    "\n",
    "# Example: distribution of dsbltygrpnm (disability group name)\n",
    "distribution_df = spark.sql(\"\"\"\n",
    "    SELECT dsbltygrpnm, COUNT(*) AS count_rows\n",
    "    FROM ndis_data\n",
    "    GROUP BY dsbltygrpnm\n",
    "    ORDER BY count_rows DESC\n",
    "    LIMIT 10\n",
    "\"\"\")\n",
    "\n",
    "distribution_pdf = distribution_df.toPandas()\n",
    "distribution_pdf"
   ]
  },
  {
   "cell_type": "markdown",
   "id": "fbbb1bd8-c594-4fdf-8fdd-70dda58a7e0d",
   "metadata": {},
   "source": [
    "Check missing values"
   ]
  },
  {
   "cell_type": "code",
   "execution_count": 29,
   "id": "ae980910-277f-4a0b-adba-0fae739493c1",
   "metadata": {},
   "outputs": [
    {
     "name": "stderr",
     "output_type": "stream",
     "text": [
      "                                                                                "
     ]
    },
    {
     "data": {
      "text/html": [
       "<div>\n",
       "<style scoped>\n",
       "    .dataframe tbody tr th:only-of-type {\n",
       "        vertical-align: middle;\n",
       "    }\n",
       "\n",
       "    .dataframe tbody tr th {\n",
       "        vertical-align: top;\n",
       "    }\n",
       "\n",
       "    .dataframe thead th {\n",
       "        text-align: right;\n",
       "    }\n",
       "</style>\n",
       "<table border=\"1\" class=\"dataframe\">\n",
       "  <thead>\n",
       "    <tr style=\"text-align: right;\">\n",
       "      <th></th>\n",
       "      <th>column_name</th>\n",
       "      <th>missing_count</th>\n",
       "    </tr>\n",
       "  </thead>\n",
       "  <tbody>\n",
       "    <tr>\n",
       "      <th>0</th>\n",
       "      <td>avganlsdcmtdsuppbdgt</td>\n",
       "      <td>173191</td>\n",
       "    </tr>\n",
       "    <tr>\n",
       "      <th>1</th>\n",
       "      <td>avganlsdpymt</td>\n",
       "      <td>170429</td>\n",
       "    </tr>\n",
       "    <tr>\n",
       "      <th>2</th>\n",
       "      <td>actvprtcpnt</td>\n",
       "      <td>134998</td>\n",
       "    </tr>\n",
       "    <tr>\n",
       "      <th>3</th>\n",
       "      <td>rprtdt</td>\n",
       "      <td>0</td>\n",
       "    </tr>\n",
       "    <tr>\n",
       "      <th>4</th>\n",
       "      <td>statecd</td>\n",
       "      <td>0</td>\n",
       "    </tr>\n",
       "    <tr>\n",
       "      <th>5</th>\n",
       "      <td>srvcdstrctnm</td>\n",
       "      <td>0</td>\n",
       "    </tr>\n",
       "    <tr>\n",
       "      <th>6</th>\n",
       "      <td>dsbltygrpnm</td>\n",
       "      <td>0</td>\n",
       "    </tr>\n",
       "    <tr>\n",
       "      <th>7</th>\n",
       "      <td>agebnd</td>\n",
       "      <td>0</td>\n",
       "    </tr>\n",
       "    <tr>\n",
       "      <th>8</th>\n",
       "      <td>suppclass</td>\n",
       "      <td>0</td>\n",
       "    </tr>\n",
       "    <tr>\n",
       "      <th>9</th>\n",
       "      <td>source_dataset</td>\n",
       "      <td>0</td>\n",
       "    </tr>\n",
       "    <tr>\n",
       "      <th>10</th>\n",
       "      <td>prvdrcnt</td>\n",
       "      <td>0</td>\n",
       "    </tr>\n",
       "  </tbody>\n",
       "</table>\n",
       "</div>"
      ],
      "text/plain": [
       "             column_name  missing_count\n",
       "0   avganlsdcmtdsuppbdgt         173191\n",
       "1           avganlsdpymt         170429\n",
       "2            actvprtcpnt         134998\n",
       "3                 rprtdt              0\n",
       "4                statecd              0\n",
       "5           srvcdstrctnm              0\n",
       "6            dsbltygrpnm              0\n",
       "7                 agebnd              0\n",
       "8              suppclass              0\n",
       "9         source_dataset              0\n",
       "10              prvdrcnt              0"
      ]
     },
     "metadata": {},
     "output_type": "display_data"
    }
   ],
   "source": [
    "df.createOrReplaceTempView(\"ndis_data\")\n",
    "\n",
    "missing_values_df = spark.sql(\"\"\"\n",
    "    SELECT \n",
    "        column_name,\n",
    "        SUM(CASE WHEN column_value IS NULL THEN 1 ELSE 0 END) AS missing_count\n",
    "    FROM (\n",
    "        SELECT 'rprtdt' AS column_name, rprtdt AS column_value FROM ndis_data\n",
    "        UNION ALL\n",
    "        SELECT 'statecd' AS column_name, statecd AS column_value FROM ndis_data\n",
    "        UNION ALL\n",
    "        SELECT 'srvcdstrctnm' AS column_name, srvcdstrctnm AS column_value FROM ndis_data\n",
    "        UNION ALL\n",
    "        SELECT 'dsbltygrpnm' AS column_name, dsbltygrpnm AS column_value FROM ndis_data\n",
    "        UNION ALL\n",
    "        SELECT 'agebnd' AS column_name, agebnd AS column_value FROM ndis_data\n",
    "        UNION ALL\n",
    "        SELECT 'suppclass' AS column_name, suppclass AS column_value FROM ndis_data\n",
    "        UNION ALL\n",
    "        SELECT 'avganlsdcmtdsuppbdgt' AS column_name, avganlsdcmtdsuppbdgt AS column_value FROM ndis_data\n",
    "        UNION ALL\n",
    "        SELECT 'actvprtcpnt' AS column_name, actvprtcpnt AS column_value FROM ndis_data\n",
    "        UNION ALL\n",
    "        SELECT 'source_dataset' AS column_name, source_dataset AS column_value FROM ndis_data\n",
    "        UNION ALL\n",
    "        SELECT 'prvdrcnt' AS column_name, prvdrcnt AS column_value FROM ndis_data\n",
    "        UNION ALL\n",
    "        SELECT 'avganlsdpymt' AS column_name, avganlsdpymt AS column_value FROM ndis_data\n",
    "    ) subquery\n",
    "    GROUP BY column_name\n",
    "    ORDER BY missing_count DESC\n",
    "\"\"\")\n",
    "\n",
    "missing_values_pdf = missing_values_df.toPandas()\n",
    "\n",
    "from IPython.display import display\n",
    "display(missing_values_pdf)\n"
   ]
  },
  {
   "cell_type": "code",
   "execution_count": 30,
   "id": "8e5da2a0-a366-476e-9dfb-5f8195ffdc64",
   "metadata": {},
   "outputs": [
    {
     "name": "stdout",
     "output_type": "stream",
     "text": [
      "Columns: ['rprtdt', 'statecd', 'srvcdstrctnm', 'dsbltygrpnm', 'agebnd', 'suppclass', 'avganlsdcmtdsuppbdgt', 'actvprtcpnt', 'source_dataset', 'prvdrcnt', 'avganlsdpymt']\n"
     ]
    }
   ],
   "source": [
    "print(\"Columns:\", df.columns)"
   ]
  },
  {
   "cell_type": "code",
   "execution_count": 31,
   "id": "392b82c3-5ce3-48b4-80af-35a20d709d11",
   "metadata": {},
   "outputs": [
    {
     "name": "stdout",
     "output_type": "stream",
     "text": [
      "+--------------------+-------------------+\n",
      "|missing_avganlsdpymt|missing_actvprtcpnt|\n",
      "+--------------------+-------------------+\n",
      "|              170429|             134998|\n",
      "+--------------------+-------------------+\n",
      "\n"
     ]
    }
   ],
   "source": [
    "from pyspark.sql.functions import col, count, when\n",
    "\n",
    "df.select([\n",
    "    count(when(col(\"avganlsdpymt\").isNull(), 1)).alias(\"missing_avganlsdpymt\"),\n",
    "    count(when(col(\"actvprtcpnt\").isNull(), 1)).alias(\"missing_actvprtcpnt\"),\n",
    "]).show()"
   ]
  },
  {
   "cell_type": "markdown",
   "id": "36741724",
   "metadata": {},
   "source": [
    "## 3. Simple Dashboard Using matplotlib\n",
    "We'll create a bar chart for the `dsbltygrpnm` distribution. "
   ]
  },
  {
   "cell_type": "code",
   "execution_count": 32,
   "id": "64dafef8",
   "metadata": {
    "tags": []
   },
   "outputs": [
    {
     "data": {
      "image/png": "[encoded data removed]",
      "text/plain": [
       "<Figure size 800x400 with 1 Axes>"
      ]
     },
     "metadata": {},
     "output_type": "display_data"
    }
   ],
   "source": [
    "import matplotlib.pyplot as plt\n",
    "%matplotlib inline\n",
    "\n",
    "fig, ax = plt.subplots(figsize=(8, 4))\n",
    "ax.bar(distribution_pdf[\"dsbltygrpnm\"], distribution_pdf[\"count_rows\"], color=\"skyblue\")\n",
    "ax.set_xlabel(\"Disability Group\")\n",
    "ax.set_ylabel(\"Count of Rows\")\n",
    "ax.set_title(\"Distribution of dsbltygrpnm\")\n",
    "plt.xticks(rotation=45, ha=\"right\")\n",
    "plt.tight_layout()\n",
    "plt.show()"
   ]
  },
  {
   "cell_type": "markdown",
   "id": "88809c1b",
   "metadata": {},
   "source": [
    "## 4. Simple Predictive Model (Spark MLlib)\n",
    "We'll do a naive regression. Suppose we want to predict `prvdrcnt` (provider count) using the disability group name `dsbltygrpnm` as categorical feature (very naive).\n"
   ]
  },
  {
   "cell_type": "code",
   "execution_count": 33,
   "id": "7fe1c13b-e776-495e-a5a1-eade5681e5aa",
   "metadata": {},
   "outputs": [
    {
     "name": "stdout",
     "output_type": "stream",
     "text": [
      "Total rows in df_model: 236267\n",
      "+--------------+-----+\n",
      "|dsbltygrpnm   |label|\n",
      "+--------------+-----+\n",
      "|Other         |0.0  |\n",
      "|Other Physical|0.0  |\n",
      "|Stroke        |0.0  |\n",
      "|Other         |0.0  |\n",
      "|ALL           |0.0  |\n",
      "+--------------+-----+\n",
      "only showing top 5 rows\n",
      "\n"
     ]
    }
   ],
   "source": [
    "from pyspark.sql.functions import col\n",
    "\n",
    "df_model = df.select(\"dsbltygrpnm\", \"prvdrcnt\")\n",
    "\n",
    "# Cast 'prvdrcnt' to double and call it 'label' for Spark ML\n",
    "df_model = df_model.withColumn(\"label\", col(\"prvdrcnt\").cast(\"double\")).drop(\"prvdrcnt\")\n",
    "\n",
    "# Check row count\n",
    "print(\"Total rows in df_model:\", df_model.count())\n",
    "\n",
    "# Example of how the data looks\n",
    "df_model.show(5, truncate=False)"
   ]
  },
  {
   "cell_type": "code",
   "execution_count": 34,
   "id": "407172db-9569-4779-8e02-e64330f03083",
   "metadata": {},
   "outputs": [
    {
     "name": "stderr",
     "output_type": "stream",
     "text": [
      "                                                                                "
     ]
    },
    {
     "name": "stdout",
     "output_type": "stream",
     "text": [
      "Training set size: 165792\n",
      "Test set size: 70475\n"
     ]
    },
    {
     "name": "stderr",
     "output_type": "stream",
     "text": [
      "25/02/07 14:13:38 WARN Instrumentation: [08666ae2] regParam is zero, which might cause numerical instability and overfitting.\n"
     ]
    },
    {
     "name": "stdout",
     "output_type": "stream",
     "text": [
      "Pipeline fitted successfully!\n"
     ]
    }
   ],
   "source": [
    "from pyspark.ml import Pipeline\n",
    "from pyspark.ml.feature import StringIndexer, OneHotEncoder, VectorAssembler\n",
    "from pyspark.ml.regression import LinearRegression\n",
    "\n",
    "# 1) StringIndexer: Convert dsbltygrpnm from string → numeric index\n",
    "indexer = StringIndexer(\n",
    "    inputCol=\"dsbltygrpnm\",\n",
    "    outputCol=\"dsbltygrpnm_index\"\n",
    ")\n",
    "\n",
    "# 2) OneHotEncoder: Convert index → one-hot vector\n",
    "encoder = OneHotEncoder(\n",
    "    inputCols=[\"dsbltygrpnm_index\"],\n",
    "    outputCols=[\"dsbltygrpnm_encoded\"]\n",
    ")\n",
    "\n",
    "# 3) VectorAssembler: Combine encoded feature into \"features\"\n",
    "assembler = VectorAssembler(\n",
    "    inputCols=[\"dsbltygrpnm_encoded\"],\n",
    "    outputCol=\"features\"\n",
    ")\n",
    "\n",
    "# 4) LinearRegression: We'll predict \"label\" (the prvdrcnt value)\n",
    "lr = LinearRegression(featuresCol=\"features\", labelCol=\"label\")\n",
    "\n",
    "# Build the pipeline with all these stages\n",
    "pipeline = Pipeline(stages=[indexer, encoder, assembler, lr])\n",
    "\n",
    "# Split data into train/test\n",
    "train_df, test_df = df_model.randomSplit([0.7, 0.3], seed=123)\n",
    "print(\"Training set size:\", train_df.count())\n",
    "print(\"Test set size:\", test_df.count())\n",
    "\n",
    "# Fit the pipeline\n",
    "pipeline_model = pipeline.fit(train_df)\n",
    "\n",
    "print(\"Pipeline fitted successfully!\")"
   ]
  },
  {
   "cell_type": "markdown",
   "id": "a1758230",
   "metadata": {},
   "source": [
    "## 5. Evaluate on Test Data"
   ]
  },
  {
   "cell_type": "code",
   "execution_count": 35,
   "id": "db7babf4",
   "metadata": {
    "tags": []
   },
   "outputs": [
    {
     "name": "stdout",
     "output_type": "stream",
     "text": [
      "+-----------+--------------+-----+-----------------+\n",
      "|dsbltygrpnm|features      |label|prediction       |\n",
      "+-----------+--------------+-----+-----------------+\n",
      "|ABI        |(20,[5],[1.0])|0.0  |9.966340211086813|\n",
      "|ABI        |(20,[5],[1.0])|0.0  |9.966340211086813|\n",
      "|ABI        |(20,[5],[1.0])|0.0  |9.966340211086813|\n",
      "|ABI        |(20,[5],[1.0])|0.0  |9.966340211086813|\n",
      "|ABI        |(20,[5],[1.0])|0.0  |9.966340211086813|\n",
      "|ABI        |(20,[5],[1.0])|0.0  |9.966340211086813|\n",
      "|ABI        |(20,[5],[1.0])|0.0  |9.966340211086813|\n",
      "|ABI        |(20,[5],[1.0])|0.0  |9.966340211086813|\n",
      "|ABI        |(20,[5],[1.0])|0.0  |9.966340211086813|\n",
      "|ABI        |(20,[5],[1.0])|0.0  |9.966340211086813|\n",
      "+-----------+--------------+-----+-----------------+\n",
      "only showing top 10 rows\n",
      "\n",
      "Training RMSE: 85.40407468885515\n",
      "Training R2: 0.023541460954755178\n",
      "Test RMSE: 76.3715310183551\n",
      "Test R2: 0.02460063541510793\n"
     ]
    }
   ],
   "source": [
    "# Transform the test data to get predictions\n",
    "predictions = pipeline_model.transform(test_df)\n",
    "\n",
    "# Show a few predictions\n",
    "predictions.select(\"dsbltygrpnm\", \"features\", \"label\", \"prediction\").show(10, truncate=False)\n",
    "\n",
    "# Evaluate with RegressionEvaluator, or access the LR stage directly\n",
    "from pyspark.ml.evaluation import RegressionEvaluator\n",
    "\n",
    "# The LR model is the last stage in the pipeline\n",
    "lr_model = pipeline_model.stages[-1]  # or pipeline_model.stages[3]\n",
    "training_summary = lr_model.summary\n",
    "\n",
    "print(\"Training RMSE:\", training_summary.rootMeanSquaredError)\n",
    "print(\"Training R2:\", training_summary.r2)\n",
    "\n",
    "# Evaluate on test set\n",
    "evaluator = RegressionEvaluator(\n",
    "    labelCol=\"label\",\n",
    "    predictionCol=\"prediction\",\n",
    "    metricName=\"rmse\"\n",
    ")\n",
    "rmse_test = evaluator.evaluate(predictions)\n",
    "print(\"Test RMSE:\", rmse_test)\n",
    "\n",
    "r2_evaluator = RegressionEvaluator(\n",
    "    labelCol=\"label\",\n",
    "    predictionCol=\"prediction\",\n",
    "    metricName=\"r2\"\n",
    ")\n",
    "r2_test = r2_evaluator.evaluate(predictions)\n",
    "print(\"Test R2:\", r2_test)"
   ]
  },
  {
   "cell_type": "markdown",
   "id": "e02d0800",
   "metadata": {},
   "source": [
    "## 6. Next Steps for a Dashboard\n",
    "\n",
    "- Use **Plotly** or **Bokeh** for interactive Python charts.\n",
    "- Use **Databricks** built-in visualizations.\n",
    "- Export aggregated data to a BI tool (Tableau, Power BI, etc.).\n"
   ]
  },
  {
   "cell_type": "code",
   "execution_count": 24,
   "id": "c2be4929",
   "metadata": {},
   "outputs": [],
   "source": [
    "# 7. Stop Spark if done\n",
    "spark.stop()"
   ]
  },
  {
   "cell_type": "code",
   "execution_count": null,
   "id": "9ca71f1e-285d-4dc2-8dd2-6676f7fc306d",
   "metadata": {},
   "outputs": [],
   "source": []
  }
 ],
 "metadata": {
  "kernelspec": {
   "display_name": "Python 3 (ipykernel)",
   "language": "python",
   "name": "python3"
  },
  "language_info": {
   "codemirror_mode": {
    "name": "ipython",
    "version": 3
   },
   "file_extension": ".py",
   "mimetype": "text/x-python",
   "name": "python",
   "nbconvert_exporter": "python",
   "pygments_lexer": "ipython3",
   "version": "3.11.11"
  }
 },
 "nbformat": 4,
 "nbformat_minor": 5
}
